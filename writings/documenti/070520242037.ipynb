{
 "cells": [
  {
   "cell_type": "markdown",
   "metadata": {
    "id": "kz3harm4tRCt"
   },
   "source": [
    "$$\n",
    "M_a = \\frac{1}{n} \\sum_{i=1}^{n} x_i\n",
    "$$"
   ]
  },
  {
   "cell_type": "code",
   "execution_count": 27,
   "metadata": {},
   "outputs": [
    {
     "name": "stdout",
     "output_type": "stream",
     "text": [
      "189589.92572322\n",
      "189592.22259481\n"
     ]
    }
   ],
   "source": [
    "from binance.spot import Spot\n",
    "import time\n",
    "import pandas as pd\n",
    "import numpy as np\n",
    "\n",
    "client = Spot(base_url='https://testnet.binance.vision', api_key='LIMHyRg559t5sZFzOHMu9Ev8oGljAj6uoApouYwGNnsmaWC4FFAtR3cu7K2bPTvm', api_secret='YrZhktWxLmYKezclreCqufT3XTIiKCsgwzwtFDOFz6OcoZreMhxhsBxfqN0PPyaM')\n",
    "\n",
    "df = pd.DataFrame()\n",
    "count1 = 0\n",
    "count2 = 0\n",
    "df['op'] = 0\n",
    "df['count'] = 0\n",
    "\n",
    "def dati():\n",
    "    global df\n",
    "    price = client.avg_price(symbol = 'BTCUSDT')\n",
    "    price_df = pd.json_normalize(price)\n",
    "    df = pd.concat([df, price_df])\n",
    "    df.reset_index(inplace=True, drop=True)\n",
    "    df['op'] = df['op'].fillna(0)\n",
    "\n",
    "def media_mobile():\n",
    "    df[\"x\"]=df[\"price\"].rolling(window=5, min_periods=2).mean()\n",
    "    df[\"y\"]=df[\"price\"].rolling(window=21, min_periods=4).mean()\n",
    "    df['x'] = df['x'].fillna(0)\n",
    "    df['y'] = df['y'].fillna(0)\n",
    "\n",
    "def logica():\n",
    "    global count1\n",
    "    global count2\n",
    "    count1 = count1 + 1\n",
    "    # Se x > y e x < y a t-1 compra\n",
    "    if df['x'].loc[x] > df['y'].loc[x]:\n",
    "        if x == 0:\n",
    "            y = x\n",
    "        if x > 0:\n",
    "            y = x - 1\n",
    "            if df['x'].loc[y] <= df['y'].loc[y]:\n",
    "                df['op'].loc[x] = 'BUY'\n",
    "                df['count'].loc[x] = count1\n",
    "    # Se x > y e x > y a t-1 neutro\n",
    "    if df['x'].loc[x] > df['y'].loc[x]:\n",
    "        if x == 0:\n",
    "            y = x\n",
    "        if x > 0:\n",
    "            y = x - 1\n",
    "            if df['x'].loc[y] > df['y'].loc[y]:\n",
    "                df['op'].loc[x] = 0\n",
    "    # Se x < y e x > y a t-1 vende\n",
    "    if df['x'].loc[x] <= df['y'].loc[x]:  \n",
    "        if x == 0:\n",
    "            y = x\n",
    "        if x > 0:\n",
    "            y = x - 1\n",
    "            if df['x'].loc[y] > df['y'].loc[y]:\n",
    "                df['op'].loc[x] = 'SELL'\n",
    "                df['count'].loc[x] = count1\n",
    "    # Se x < y e x < y a t-1 neutro\n",
    "    if df['x'].loc[x] <= df['y'].loc[x]:\n",
    "        if x == 0:\n",
    "            y = x\n",
    "        if x > 0:\n",
    "            y = x - 1\n",
    "            if df['x'].loc[y] <= df['y'].loc[y]:\n",
    "                df['op'].loc[x] = 0\n",
    "\n",
    "def esecuzione():\n",
    "    global count2\n",
    "    count2 = count2 + 1\n",
    "    if df['op'].loc[x] == 'BUY':\n",
    "        if df['count'].loc[x] > count2:\n",
    "            df('buy')\n",
    "            \n",
    "for x in range(0, 60):\n",
    "    time.sleep(1)\n",
    "    dati()\n",
    "    media_mobile()\n",
    "    logica()\n",
    "    \n",
    "df['w'] = 0\n",
    "\n",
    "for x in range(len(df)):\n",
    "    if df['op'].loc[x] == 'BUY':\n",
    "        df['w'].loc[x] = df['price'].loc[x]\n",
    "\n",
    "df['z'] = 0\n",
    "\n",
    "for x in range(len(df)):\n",
    "    if df['op'].loc[x] == 'SELL':\n",
    "        df['z'].loc[x] = df['price'].loc[x]\n",
    "\n",
    "df = df.astype({'w': float, 'z': float})\n",
    "        \n",
    "print(df['w'].sum())\n",
    "print(df['z'].sum())"
   ]
  },
  {
   "cell_type": "code",
   "execution_count": null,
   "metadata": {},
   "outputs": [],
   "source": []
  }
 ],
 "metadata": {
  "colab": {
   "provenance": []
  },
  "kernelspec": {
   "display_name": "Python 3 (ipykernel)",
   "language": "python",
   "name": "python3"
  },
  "language_info": {
   "codemirror_mode": {
    "name": "ipython",
    "version": 3
   },
   "file_extension": ".py",
   "mimetype": "text/x-python",
   "name": "python",
   "nbconvert_exporter": "python",
   "pygments_lexer": "ipython3",
   "version": "3.10.12"
  }
 },
 "nbformat": 4,
 "nbformat_minor": 1
}
