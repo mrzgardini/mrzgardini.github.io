{
 "cells": [
  {
   "cell_type": "markdown",
   "id": "2da527a4",
   "metadata": {},
   "source": [
    "prerequisiti\n",
    "\n",
    "https://interactivebrokers.github.io/tws-api/index.html"
   ]
  },
  {
   "cell_type": "code",
   "execution_count": null,
   "id": "8e6a8def",
   "metadata": {},
   "outputs": [],
   "source": [
    "import pandas as pd\n",
    "import matplotlib.pyplot as plt\n",
    "from ibapi.client import *\n",
    "from ibapi.wrapper import *\n",
    "import numpy as np"
   ]
  },
  {
   "cell_type": "markdown",
   "id": "d836e398",
   "metadata": {},
   "source": [
    "candele giapponesi"
   ]
  },
  {
   "cell_type": "code",
   "execution_count": null,
   "id": "076dd891",
   "metadata": {},
   "outputs": [],
   "source": [
    "class candele_giapponesi(EWrapper, EClient):\n",
    "    def __init__(self):\n",
    "        EClient.__init__(self, self) \n",
    "        self.data = []\n",
    "        \n",
    "    def nextValidId(self, orderId: int):\n",
    "        \n",
    "        mycontract = Contract()\n",
    "        mycontract.symbol = \"AAPL\"\n",
    "        mycontract.secType = \"STK\"\n",
    "        mycontract.exchange = \"SMART\"\n",
    "        mycontract.currency = \"USD\"        \n",
    "        self.reqMarketDataType(3)    \n",
    "   \n",
    "        self.reqHistoricalData(orderId, mycontract, '20240110 15:59:00 US/Eastern', '1 D', '1 hour', 'TRADES', 0, 1, 0, [])\n",
    "\n",
    "    def historicalData(self, reqId, bar):\n",
    "        self.data.append([bar.date, bar.close])\n",
    "        app.disconnect()\n",
    "\n",
    "app = candele_giapponesi()\n",
    "app.connect('127.0.0.1', 7497, 123)\n",
    "app.run()"
   ]
  },
  {
   "cell_type": "code",
   "execution_count": null,
   "id": "61dcc3ee",
   "metadata": {},
   "outputs": [],
   "source": [
    "df = pd.DataFrame(app.data, columns=['DateTime', 'Close'])\n",
    "df"
   ]
  },
  {
   "cell_type": "markdown",
   "id": "23195d5e",
   "metadata": {},
   "source": [
    "buy"
   ]
  },
  {
   "cell_type": "code",
   "execution_count": null,
   "id": "36814c96",
   "metadata": {},
   "outputs": [],
   "source": [
    "class buy(EClient, EWrapper):\n",
    "    def __init__(self):\n",
    "        EClient.__init__(self, self)\n",
    "\n",
    "    def nextValidId(self, orderId: OrderId):\n",
    "\n",
    "        mycontract = Contract()\n",
    "        mycontract.symbol = \"AAPL\"\n",
    "        mycontract.secType = \"STK\"    \n",
    "        mycontract.exchange = \"SMART\"\n",
    "        mycontract.currency = \"USD\"\n",
    "\n",
    "        self.reqContractDetails(orderId, mycontract)\n",
    "\n",
    "    def contractDetails(self, reqId: int, contractDetails: ContractDetails):\n",
    "        print(contractDetails.contract)\n",
    "\n",
    "        myorder = Order()\n",
    "        myorder.orderId = reqId\n",
    "        myorder.action = \"BUY\"\n",
    "        myorder.tif = \"GTC\"\n",
    "        myorder.orderType = \"LMT\"\n",
    "        myorder.lmtPrice = 1440.80\n",
    "        myorder.totalQuantity = 1\n",
    "\n",
    "        self.placeOrder(myorder.orderId, contractDetails.contract, myorder)\n",
    "\n",
    "\n",
    "    def openOrder(self, orderId: OrderId, contract: Contract, order: Order, orderState: OrderState):\n",
    "        print(f\"openOrder. orderId: {orderId}, contract: {contract}, order: {order}\")\n",
    "\n",
    "    def orderStatus(self, orderId: OrderId, status: str, filled: Decimal, remaining: Decimal, avgFillPrice: float, permId: int, parentId: int, lastFillPrice: float, clientId: int, whyHeld: str, mktCapPrice: float):\n",
    "        print(f\"orderId: {orderId}, status: {status}, filled: {filled}, remaining: {remaining}, avgFillPrice: {avgFillPrice}, permId: {permId}, parentId: {parentId}, lastFillPrice: {lastFillPrice}, clientId: {clientId}, whyHeld: {whyHeld}, mktCapPrice: {mktCapPrice}\")\n",
    "\n",
    "    def execDetails(self, reqId: int, contract: Contract, execution: Execution):\n",
    "        print(f\"reqId: {reqId}, contract: {contract}, execution: {execution}\")\n",
    "\n",
    "app = buy()\n",
    "app.connect(\"127.0.0.1\", 7497, 123)\n",
    "app.run()"
   ]
  }
 ],
 "metadata": {
  "kernelspec": {
   "display_name": "Python 3 (ipykernel)",
   "language": "python",
   "name": "python3"
  },
  "language_info": {
   "codemirror_mode": {
    "name": "ipython",
    "version": 3
   },
   "file_extension": ".py",
   "mimetype": "text/x-python",
   "name": "python",
   "nbconvert_exporter": "python",
   "pygments_lexer": "ipython3",
   "version": "3.10.12"
  }
 },
 "nbformat": 4,
 "nbformat_minor": 5
}
