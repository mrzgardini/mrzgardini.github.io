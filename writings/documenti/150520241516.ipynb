{
 "cells": [
  {
   "cell_type": "markdown",
   "id": "92b1248e",
   "metadata": {},
   "source": [
    "# Modello:\n",
    "$ M_a = \\frac{1}{n} \\sum_{i=1}^{n} x_i $"
   ]
  },
  {
   "cell_type": "code",
   "execution_count": 1,
   "id": "cdb4e20d",
   "metadata": {},
   "outputs": [],
   "source": [
    "import os\n",
    "from binance.spot import Spot\n",
    "import time\n",
    "import pandas as pd\n",
    "import numpy as np\n",
    "# import talib"
   ]
  },
  {
   "cell_type": "code",
   "execution_count": null,
   "id": "4ac0560e",
   "metadata": {},
   "outputs": [],
   "source": [
    "os.system('wget https://github.com/TA-Lib/ta-lib/releases/download/v0.4.0/ta-lib-0.4.0-src.tar.gz')\n",
    "os.system('tar -xf ta-lib-0.4.0-src.tar.gz')\n",
    "os.chdir('ta-lib/')\n",
    "os.system('bash configure --prefix=/usr/')\n",
    "os.system('make')\n",
    "os.system('sudo make install')\n",
    "os.system('pip install TA-Lib')\n",
    "os.chdir('/content/')\n",
    "\n",
    "import talib"
   ]
  },
  {
   "cell_type": "markdown",
   "id": "d47772a9",
   "metadata": {},
   "source": [
    "## Parametri"
   ]
  },
  {
   "cell_type": "code",
   "execution_count": 34,
   "id": "2c3112c3",
   "metadata": {},
   "outputs": [],
   "source": [
    "start = \"2024-05-11 13:00\"\n",
    "end = '2024-05-13 13:00'\n",
    "window1 = 5\n",
    "window2 = 21"
   ]
  },
  {
   "cell_type": "markdown",
   "id": "f996e54f",
   "metadata": {},
   "source": [
    "## Backtest"
   ]
  },
  {
   "cell_type": "code",
   "execution_count": 35,
   "id": "21090acf",
   "metadata": {},
   "outputs": [
    {
     "name": "stdout",
     "output_type": "stream",
     "text": [
      "Comprato:\n",
      "1706917.56\n",
      "Venduto:\n",
      "1707487.28\n"
     ]
    }
   ],
   "source": [
    "start_obj = time.strptime(start, '%Y-%m-%d %H:%M')\n",
    "start_ts = time.mktime(start_obj)\n",
    "start_int = int(start_ts)\n",
    "start_ts_ms = start_int * 1000\n",
    "\n",
    "end_obj = time.strptime(end, '%Y-%m-%d %H:%M')\n",
    "end_ts = time.mktime(end_obj)\n",
    "end_int = int(end_ts)\n",
    "end_ts_ms = end_int * 1000\n",
    "\n",
    "spot_client = Spot(base_url = 'https://testnet.binance.vision', api_key = 'OMISSIS', api_secret = 'OMISSIS')\n",
    "\n",
    "def dati_backtest():\n",
    "    global c_df\n",
    "    a = spot_client.klines('BTCUSDT', '1m', startTime = start_ts_ms, endTime = end_ts_ms)\n",
    "    c_df = pd.DataFrame(a, columns = ['open time', 'open', 'high', 'low', 'close', 'volume', 'close time', 'quote asset volume', 'number of trades', 'taker buy base asset volume', 'taker buy quote asset volume', 'unused'])\n",
    "    \n",
    "    \n",
    "def modello():\n",
    "    global l, m, y, c_df\n",
    "    c_df['x'] = talib.SMA(c_df.close, timeperiod = window1)\n",
    "    c_df['y'] = talib.SMA(c_df.close, timeperiod = window2)\n",
    "    c_df['x'] = c_df['x'].fillna(0)\n",
    "    c_df['y'] = c_df['y'].fillna(0)\n",
    "    l = l + 1\n",
    "    if x == 0:\n",
    "        y = x\n",
    "    if x > 0:\n",
    "        y = x - 1\n",
    "    # se x > y e x < y a t-1 compra\n",
    "    if c_df['x'].loc[x] > c_df['y'].loc[x]:\n",
    "        if c_df['x'].loc[y] <=  c_df['y'].loc[y]:\n",
    "            c_df['d'].loc[x] = 1\n",
    "            c_df['e'].loc[x] = l\n",
    "    # se x > y e x > y a t-1 neutro\n",
    "    if c_df['x'].loc[x] > c_df['y'].loc[x]:\n",
    "        if c_df['x'].loc[y] > c_df['y'].loc[y]:\n",
    "            c_df['d'].loc[x] = 0\n",
    "    # se x < y e x > y a t-1 vende\n",
    "    if c_df['x'].loc[x] <=  c_df['y'].loc[x]:  \n",
    "        if c_df['x'].loc[y] > c_df['y'].loc[y]:\n",
    "            c_df['d'].loc[x] = -1\n",
    "            c_df['e'].loc[x] = l\n",
    "    # se x < y e x < y a t-1 neutro\n",
    "    if c_df['x'].loc[x] <=  c_df['y'].loc[x]:\n",
    "        if c_df['x'].loc[y] <=  c_df['y'].loc[y]:\n",
    "            c_df['d'].loc[x] = 0\n",
    "\n",
    "def backtest():\n",
    "    global n, o, c_df\n",
    "    n = 0\n",
    "    o = 0\n",
    "    if c_df['d'].loc[x] == 1:\n",
    "        c_df['w'].loc[x] = c_df['close'].loc[x]\n",
    "    if c_df['d'].loc[x] == -1:\n",
    "        c_df['z'].loc[x] = c_df['close'].loc[x]\n",
    "    c_df['w'] = c_df['w'].fillna(0)\n",
    "    c_df['z'] = c_df['z'].fillna(0)\n",
    "    c_df = c_df.astype({'w': 'float', 'z': 'float'})\n",
    "    for p in c_df['w']:\n",
    "        n += p\n",
    "    for p in c_df['z']:\n",
    "        o += p\n",
    "\n",
    "dati_backtest()        \n",
    "\n",
    "l = 0\n",
    "m = 0\n",
    "c_df['d'] = 0\n",
    "c_df['e'] = 0\n",
    "c_df['f'] = 0\n",
    "c_df['h'] = 0\n",
    "c_df['i'] = 0\n",
    "c_df['w'] = 0\n",
    "c_df['z'] = 0       \n",
    "\n",
    "for x in range(len(c_df)):\n",
    "    modello()\n",
    "    backtest()\n",
    "    \n",
    "print('Comprato:')\n",
    "print(n)\n",
    "print('Venduto:')\n",
    "print(o)"
   ]
  },
  {
   "cell_type": "markdown",
   "id": "6242b6e9",
   "metadata": {},
   "source": [
    "## Operazioni"
   ]
  },
  {
   "cell_type": "code",
   "execution_count": null,
   "id": "ebcf4ec1",
   "metadata": {},
   "outputs": [],
   "source": [
    "spot_client = Spot(base_url = 'https://testnet.binance.vision', api_key = 'OMISSIS', api_secret = 'OMISSIS')\n",
    "\n",
    "# da sistemare posizione dichiarazione variabili\n",
    "c_df = pd.DataFrame()\n",
    "l = 0\n",
    "m = 0\n",
    "c_df['d'] = 0\n",
    "c_df['e'] = 0\n",
    "c_df['f'] = 0\n",
    "c_df['h'] = 0\n",
    "c_df['i'] = 0\n",
    "c_df['w'] = 0\n",
    "c_df['z'] = 0\n",
    "\n",
    "def dati():\n",
    "    global c_df\n",
    "    a = spot_client.klines('BTCUSDT', '1m', limit=1)\n",
    "    b_df = pd.DataFrame(a, columns = ['open time', 'open', 'high', 'low', 'close', 'volume', 'close time', 'quote asset volume', 'number of trades', 'taker buy base asset volume', 'taker buy quote asset volume', 'unused'])\n",
    "    c_df = pd.concat([c_df, b_df])\n",
    "    \n",
    "def modello():\n",
    "    global l, m, y, c_df\n",
    "    c_df['x'] = talib.SMA(c_df.close, timeperiod = window1)\n",
    "    c_df['y'] = talib.SMA(c_df.close, timeperiod = window2)\n",
    "    c_df['x'] = c_df['x'].fillna(0)\n",
    "    c_df['y'] = c_df['y'].fillna(0)\n",
    "    l = l + 1\n",
    "    if x == 0:\n",
    "        y = x\n",
    "    if x > 0:\n",
    "        y = x - 1\n",
    "    # se x > y e x < y a t-1 compra\n",
    "    if c_df['x'].loc[x] > c_df['y'].loc[x]:\n",
    "        if c_df['x'].loc[y] <=  c_df['y'].loc[y]:\n",
    "            c_df['d'].loc[x] = 1\n",
    "            c_df['e'].loc[x] = l\n",
    "    # se x > y e x > y a t-1 neutro\n",
    "    if c_df['x'].loc[x] > c_df['y'].loc[x]:\n",
    "        if c_df['x'].loc[y] > c_df['y'].loc[y]:\n",
    "            c_df['d'].loc[x] = 0\n",
    "    # se x < y e x > y a t-1 vende\n",
    "    if c_df['x'].loc[x] <=  c_df['y'].loc[x]:  \n",
    "        if c_df['x'].loc[y] > c_df['y'].loc[y]:\n",
    "            c_df['d'].loc[x] = -1\n",
    "            c_df['e'].loc[x] = l\n",
    "    # se x < y e x < y a t-1 neutro\n",
    "    if c_df['x'].loc[x] <=  c_df['y'].loc[x]:\n",
    "        if c_df['x'].loc[y] <=  c_df['y'].loc[y]:\n",
    "            c_df['d'].loc[x] = 0\n",
    "\n",
    "def operazioni():\n",
    "    \n",
    "\n",
    "for x in range(0, 60):\n",
    "    dati()\n",
    "    modello()\n",
    "    operazioni()"
   ]
  }
 ],
 "metadata": {
  "kernelspec": {
   "display_name": "Python 3 (ipykernel)",
   "language": "python",
   "name": "python3"
  },
  "language_info": {
   "codemirror_mode": {
    "name": "ipython",
    "version": 3
   },
   "file_extension": ".py",
   "mimetype": "text/x-python",
   "name": "python",
   "nbconvert_exporter": "python",
   "pygments_lexer": "ipython3",
   "version": "3.10.12"
  }
 },
 "nbformat": 4,
 "nbformat_minor": 5
}
