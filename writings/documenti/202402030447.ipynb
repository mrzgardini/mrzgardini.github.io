{
  "nbformat": 4,
  "nbformat_minor": 0,
  "metadata": {
    "colab": {
      "provenance": []
    },
    "kernelspec": {
      "name": "python3",
      "display_name": "Python 3"
    },
    "language_info": {
      "name": "python"
    }
  },
  "cells": [
    {
      "cell_type": "code",
      "source": [
        "import os\n",
        "\n",
        "os.system('wget https://github.com/TA-Lib/ta-lib/releases/download/v0.4.0/ta-lib-0.4.0-src.tar.gz')\n",
        "os.system('tar -xf ta-lib-0.4.0-src.tar.gz')\n",
        "os.chdir('ta-lib')\n",
        "os.system('bash configure --prefix=/usr')\n",
        "os.system('make')\n",
        "os.system('sudo make install')\n",
        "os.system('pip install TA-Lib')\n",
        "os.chdir('/content/')"
      ],
      "metadata": {
        "id": "dgftFMFDnIpc"
      },
      "execution_count": null,
      "outputs": []
    },
    {
      "cell_type": "code",
      "source": [
        "import pandas as pd\n",
        "import matplotlib.pyplot as plt\n",
        "import numpy as np\n",
        "import talib"
      ],
      "metadata": {
        "id": "xTmJSTWhE6F4"
      },
      "execution_count": null,
      "outputs": []
    },
    {
      "cell_type": "code",
      "source": [
        "!wget https://mrzgardini.github.io/writings/documenti/13.csv # DOGEUSDT 1m 2024-02-28"
      ],
      "metadata": {
        "id": "pd4t0ecOrStY"
      },
      "execution_count": null,
      "outputs": []
    },
    {
      "cell_type": "code",
      "source": [
        "df = pd.read_csv(r'13.csv')"
      ],
      "metadata": {
        "id": "A9DR4cO_FF_N"
      },
      "execution_count": null,
      "outputs": []
    },
    {
      "cell_type": "code",
      "source": [
        "df"
      ],
      "metadata": {
        "id": "03KQzBpRth7k"
      },
      "execution_count": null,
      "outputs": []
    },
    {
      "cell_type": "code",
      "source": [
        "for x in range(0, 6):\n",
        "    df.drop(df.columns[6], axis = 1, inplace = True)"
      ],
      "metadata": {
        "id": "8_Rpg8pUpqYF"
      },
      "execution_count": null,
      "outputs": []
    },
    {
      "cell_type": "code",
      "source": [
        "df"
      ],
      "metadata": {
        "id": "1MMy6Wk-sVOY"
      },
      "execution_count": null,
      "outputs": []
    },
    {
      "cell_type": "code",
      "source": [
        "df.rename(columns={df.columns[0]: 'data'}, inplace = True)\n",
        "df.rename(columns={df.columns[1]: 'open'}, inplace = True)\n",
        "df.rename(columns={df.columns[2]: 'high'}, inplace = True)\n",
        "df.rename(columns={df.columns[3]: 'low'}, inplace = True)\n",
        "df.rename(columns={df.columns[4]: 'close'}, inplace = True)\n",
        "df.rename(columns={df.columns[5]: 'volume'}, inplace = True)"
      ],
      "metadata": {
        "id": "4sBj1bPMu1N7"
      },
      "execution_count": null,
      "outputs": []
    },
    {
      "cell_type": "code",
      "source": [
        "df"
      ],
      "metadata": {
        "id": "sunCCu0E0uOZ"
      },
      "execution_count": null,
      "outputs": []
    },
    {
      "cell_type": "code",
      "source": [
        "plt.plot(df['close'], color = 'black')\n",
        "plt.show()"
      ],
      "metadata": {
        "id": "63XPRfq7rWGE"
      },
      "execution_count": null,
      "outputs": []
    },
    {
      "cell_type": "markdown",
      "source": [
        "$$\n",
        "M_a = \\frac{1}{n} \\sum_{i=1}^{n} x_i\n",
        "$$"
      ],
      "metadata": {
        "id": "kz3harm4tRCt"
      }
    },
    {
      "cell_type": "code",
      "source": [
        "df['sma1'] = talib.SMA(df.close, timeperiod = 5)\n",
        "df['sma2'] = talib.SMA(df.close, timeperiod = 21)"
      ],
      "metadata": {
        "id": "Wa3muYzUrZwm"
      },
      "execution_count": null,
      "outputs": []
    },
    {
      "cell_type": "code",
      "source": [
        "df"
      ],
      "metadata": {
        "id": "aNbZEifAzQeI"
      },
      "execution_count": null,
      "outputs": []
    },
    {
      "cell_type": "code",
      "source": [
        "plt.plot(df['close'], color = 'black')\n",
        "plt.plot(df['sma1'], color = 'r')\n",
        "plt.plot(df['sma2'], color = 'g')\n",
        "plt.show()"
      ],
      "metadata": {
        "id": "sXkMa3KzOM10"
      },
      "execution_count": null,
      "outputs": []
    },
    {
      "cell_type": "code",
      "source": [
        "df['buy_sma'] = 0\n",
        "buy_flag_sma = False\n",
        "\n",
        "for i in range(len(df)):\n",
        "  if not buy_flag_sma and df.loc[i, 'sma1'] > df.loc[i, 'sma2']:\n",
        "    df.loc[i, 'buy_sma'] = 'BUY'\n",
        "    buy_flag_sma = True\n",
        "  elif buy_flag_sma and df.loc[i, 'sma1'] <= df.loc[i, 'sma2']:\n",
        "    df.loc[i, 'buy_sma'] = 0\n",
        "    buy_flag_sma = False\n",
        "\n",
        "df['sell_sma'] = 0\n",
        "sell_flag_sma = False\n",
        "\n",
        "for i in range(len(df)):\n",
        "  if not sell_flag_sma and df.loc[i, 'sma1'] < df.loc[i, 'sma2']:\n",
        "    df.loc[i, 'sell_sma'] = 'SELL'\n",
        "    sell_flag_sma = True\n",
        "  elif sell_flag_sma and df.loc[i, 'sma1'] >= df.loc[i, 'sma2']:\n",
        "    df.loc[i, 'sell_sma'] = 0\n",
        "    sell_flag_sma = False\n",
        "\n",
        "df['x_sma'] = 0\n",
        "\n",
        "for i in range(len(df)):\n",
        "  if df.loc[i, 'buy_sma'] == 'BUY':\n",
        "    df.loc[i, 'x_sma'] = df.loc[i, 'close']\n",
        "\n",
        "df['y_sma'] = 0\n",
        "\n",
        "for i in range(len(df)):\n",
        "  if df.loc[i, 'sell_sma'] == 'SELL':\n",
        "    df.loc[i, 'y_sma'] = df.loc[i, 'close']\n",
        "\n",
        "comprato = df['x_sma'].sum()\n",
        "venduto = df['y_sma'].sum()"
      ],
      "metadata": {
        "id": "cQ7znNIGrgQ5"
      },
      "execution_count": null,
      "outputs": []
    },
    {
      "cell_type": "code",
      "source": [
        "comprato"
      ],
      "metadata": {
        "id": "mVOcgEpbsFOl"
      },
      "execution_count": null,
      "outputs": []
    },
    {
      "cell_type": "code",
      "source": [
        "venduto"
      ],
      "metadata": {
        "id": "yqrZIS1RsHZQ"
      },
      "execution_count": null,
      "outputs": []
    },
    {
      "cell_type": "code",
      "source": [],
      "metadata": {
        "id": "nbtsrNjAoDsT"
      },
      "execution_count": null,
      "outputs": []
    }
  ]
}